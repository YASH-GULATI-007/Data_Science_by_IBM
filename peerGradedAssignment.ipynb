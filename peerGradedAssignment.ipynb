{
 "cells": [
  {
   "cell_type": "markdown",
   "id": "4c5e5214-bd27-4681-b7b0-1599d79c959a",
   "metadata": {},
   "source": [
    "<title>Data Science</title>"
   ]
  },
  {
   "cell_type": "markdown",
   "id": "5991f6d2-8b39-4dfb-8ad0-76ab080eba4c",
   "metadata": {},
   "source": [
    "<p>\n",
    "Data science is the field that deals with extracting actionable insights from a sea of data using various statistical and computational techniques. This covers a wide range of tasks including cleaning and munging, visualisations, statistical modelling and machine learning. These techniques are implemented by data scientists to uncover insights in data and to make predictions, to guide management decisions. These data types may include structured data and unstructured data.\n",
    "</p>"
   ]
  },
  {
   "cell_type": "markdown",
   "id": "da9a45b0-2379-4b51-9948-c8ac0fac82e3",
   "metadata": {},
   "source": [
    "<h4>List of Data Science Languages : </h4>\n",
    "<ol>\n",
    "    Python <br>\n",
    "    R-language<br>\n",
    "    JAVA<br>\n",
    "    Julia<br>\n",
    "    Scala<br>\n",
    "    MatLab<br>\n",
    "</ol>"
   ]
  },
  {
   "cell_type": "markdown",
   "id": "c0d7971e-0e72-4672-b3c8-c38c5f719175",
   "metadata": {},
   "source": [
    "<h4>List of Data Science Libraries : </h4>\n",
    "<ol>\n",
    "    Pandas <br>\n",
    "    NumPy<br>\n",
    "    SciPy<br>\n",
    "    Scikit-learn<br>\n",
    "    TensorFlow<br>\n",
    "    Seaborn<br>\n",
    "</ol>"
   ]
  },
  {
   "cell_type": "markdown",
   "id": "32892bc3-6ad0-4a7f-825d-95fb311f0c87",
   "metadata": {},
   "source": [
    "<table>\n",
    "  <tr>\n",
    "    <th>Name</th>\n",
    "    <th>Description</th>\n",
    "  </tr>\n",
    "  <tr>\n",
    "    <td>Apache Hadoop</td>\n",
    "    <td>Apache Hadoop is a free, open-source framework by Apache Software Foundation authorized under the Apache License 2.0 that can manage and store tons and tons of data.</td>\n",
    "  </tr>\n",
    "  <tr>\n",
    "    <td>SAS (Statistical Analysis System)</td>\n",
    "    <td>SAS is a closed source proprietary software that is used by large organizations to analyze data.</td>\n",
    "  </tr>\n",
    "  <tr>\n",
    "    <td>Apache Spark</td>\n",
    "    <td>Apache Spark is the data science tool developed by Apache Software Foundation used for analyzing and working on large-scale data. </td>\n",
    "  </tr>\n",
    "  <tr>\n",
    "    <td>TensorFlow</td>\n",
    "    <td>TensorFlow, developed by Google Brain team, is a free and open-source software library for dataflow and differentiable programming across a range of tasks.</td>\n",
    "  </tr>\n",
    "  <tr>\n",
    "    <td>Jupyter</td>\n",
    "    <td>It is a web-based application tool running on the kernel, used for writing live code, visualizations, and presentations.</td>\n",
    "  </tr>\n",
    "</table>"
   ]
  },
  {
   "cell_type": "markdown",
   "id": "b12b948b-b2f0-4fde-87bd-bc2560eb7046",
   "metadata": {},
   "source": [
    "<h4>Arithmetic Operators : </h4>\n",
    "<table>\n",
    "    <tr>\n",
    "        <th>Operator</th>\n",
    "        <th>Example</th>\n",
    "    </tr>\n",
    "    <tr>\n",
    "        <td>Addition</td>\n",
    "        <td>7 + 5 = 12</td>\n",
    "    </tr>\n",
    "    <tr>\n",
    "        <td>Subtraction</td>\n",
    "        <td>7 - 5 = 2</td>\n",
    "    </tr>\n",
    "    <tr>\n",
    "        <td>Multiplication</td>\n",
    "        <td> 7  * 5= 35</td>\n",
    "    </tr>\n",
    "    <tr>\n",
    "        <td>Operator</td>\n",
    "        <td>7 / 5 = 1</td>\n",
    "    </tr>\n",
    "</table>"
   ]
  },
  {
   "cell_type": "markdown",
   "id": "a484b61e-2271-4472-8c7d-439e57319492",
   "metadata": {},
   "source": [
    "<h4>Arithmetic Operators : </h4>\n",
    "<table>\n",
    "    <tr>\n",
    "        <th>Operator</th>\n",
    "        <th>Example</th>\n",
    "    </tr>\n",
    "    <tr>\n",
    "        <td>Addition</td>\n",
    "        <td>7 + 5 = 12</td>\n",
    "    </tr>\n",
    "    <tr>\n",
    "        <td>Subtraction</td>\n",
    "        <td>7 - 5 = 2</td>\n",
    "    </tr>\n",
    "    <tr>\n",
    "        <td>Multiplication</td>\n",
    "        <td> 7  * 5= 35</td>\n",
    "    </tr>\n",
    "    <tr>\n",
    "        <td>Operator</td>\n",
    "        <td>7 / 5 = 1</td>\n",
    "    </tr>\n",
    "</table>"
   ]
  },
  {
   "cell_type": "code",
   "execution_count": 1,
   "id": "45a16f9d-2e5e-44b1-98ef-be9b5d82ec69",
   "metadata": {},
   "outputs": [
    {
     "name": "stdout",
     "output_type": "stream",
     "text": [
      "Addition :7\n",
      "Multiplition :12\n"
     ]
    }
   ],
   "source": [
    "x = 3\n",
    "y = 4\n",
    "\n",
    "print(\"Addition :\" , end = \"\") \n",
    "print(x+y)\n",
    "print(\"Multiplition :\" , end = \"\") \n",
    "print(x*y)"
   ]
  },
  {
   "cell_type": "code",
   "execution_count": 3,
   "id": "6ec852a8-5c7e-423e-b327-005718c9dec0",
   "metadata": {},
   "outputs": [
    {
     "name": "stdin",
     "output_type": "stream",
     "text": [
      "Enter time in minutes :  200\n"
     ]
    },
    {
     "name": "stdout",
     "output_type": "stream",
     "text": [
      "Hours : 3\n",
      "Minutes : 20\n"
     ]
    }
   ],
   "source": [
    "minutes = int(input(\"Enter time in minutes : \"))\n",
    "print(\"Hours : \" , end = \"\")\n",
    "print(minutes//60)\n",
    "print(\"Minutes : \" , end = \"\")\n",
    "print(minutes%60)"
   ]
  },
  {
   "cell_type": "markdown",
   "id": "86b56c15-6c99-4cb5-920e-6ed824dd6db4",
   "metadata": {},
   "source": [
    "<h4>Objectives : </h4>\n",
    "<ul>\n",
    "  <li>Analyze big data</li>\n",
    "  <li>Learn techniques and tools for transformation of data</li>\n",
    "  <li>Data Mining</li>\n",
    "  <li>Data visualization and optimization</li>\n",
    "</ul>"
   ]
  },
  {
   "cell_type": "markdown",
   "id": "b4673c55-b0c5-402b-aaac-4b592da4f76d",
   "metadata": {},
   "source": [
    "<h4>Course Authors : </h4>\n",
    "<ul>\n",
    "    <li>Aije Egwaikhide</li>\n",
    "    <li>Svetlana Levitan</li>\n",
    "    <li>Romeo Kienzler</li>\n",
    "</ul>"
   ]
  },
  {
   "cell_type": "markdown",
   "id": "42afa355-4749-4617-8737-ad6ade994d6e",
   "metadata": {},
   "source": [
    "<h4>Course Authors : </h4>\n",
    "<ul>\n",
    "    <li>Aije Egwaikhide</li>\n",
    "    <li>Svetlana Levitan</li>\n",
    "    <li>Romeo Kienzler</li>\n",
    "</ul>"
   ]
  },
  {
   "cell_type": "code",
   "execution_count": null,
   "id": "2b019b4a-f238-49cd-8d4f-822a3595e55a",
   "metadata": {},
   "outputs": [],
   "source": []
  }
 ],
 "metadata": {
  "kernelspec": {
   "display_name": "Python 3 (ipykernel)",
   "language": "python",
   "name": "python3"
  },
  "language_info": {
   "codemirror_mode": {
    "name": "ipython",
    "version": 3
   },
   "file_extension": ".py",
   "mimetype": "text/x-python",
   "name": "python",
   "nbconvert_exporter": "python",
   "pygments_lexer": "ipython3",
   "version": "3.12.3"
  }
 },
 "nbformat": 4,
 "nbformat_minor": 5
}
